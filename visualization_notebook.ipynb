{
  "nbformat": 4,
  "nbformat_minor": 0,
  "metadata": {
    "colab": {
      "name": "visualization_notebook.ipynb",
      "provenance": [],
      "authorship_tag": "ABX9TyPqRXo4AHocGdbJKgvgshVc",
      "include_colab_link": true
    },
    "kernelspec": {
      "name": "python3",
      "display_name": "Python 3"
    },
    "language_info": {
      "name": "python"
    }
  },
  "cells": [
    {
      "cell_type": "markdown",
      "metadata": {
        "id": "view-in-github",
        "colab_type": "text"
      },
      "source": [
        "<a href=\"https://colab.research.google.com/github/herdward/datasets/blob/master/visualization_notebook.ipynb\" target=\"_parent\"><img src=\"https://colab.research.google.com/assets/colab-badge.svg\" alt=\"Open In Colab\"/></a>"
      ]
    },
    {
      "cell_type": "markdown",
      "source": [
        "#![alt text](https://www.beyerblinderbelle.com/storage/website_logo.svg \"Beyer Blinder Belle logo\")\n",
        "---\n",
        "##**VISUALIZATIONS**##\n",
        "---\n",
        "#Guidance#\n",
        "\n",
        "Welcome to this Jupyter Notebook for visualizations\n",
        "\n",
        "Jupyter notebooks, (like this one) contain cells, each of which have a bit of python code (by default DCT \"hides\" the actual code, just to make the UI cleaner). \n",
        "\n",
        "---\n",
        "Notes:\n",
        "- Ideally, your data would have been cleaned via the <u>text cleanup</u> notebook first\n",
        "\n",
        "- Optionally, your data may have been processed through the NLP notebook to match responses with user-defined tags.\n",
        "  - <i> There are no guarantees that this notebook will be stable for data that isn't from the output of the <b>language processing</b> notebook </i>\n",
        "\n",
        "\n",
        "To use this notebook:\n",
        "\n",
        "\n",
        "- Click the play button to the left of each cell to execute that code. \n",
        "\n",
        "- Start at the top cell, and then work downwards one at a time. You'll see an indicator spin when a cell is processing.\n",
        "\n",
        "- When a cell finishes running, it will show a green checkmark. \n",
        "\n",
        "- As you run each cell, the script will prompt you for any required inputs, guiding you through the workflow. Be sure to complete any UI selections before moving to the next cell.\n",
        "- If there is an error, read the error message for guidance and fix inputs and re-run the cell by clicking the red play button.\n",
        "- After making an UI selection, if there is no output within a second or two within the same cell, move on to the next one and press the play button on that cell to run it.\n",
        "\n",
        "Additional Info\n",
        "- Google Colab comes with some built in tools that may be of use:\n",
        "  - This icon might appear to the bottom left of a dataframe. ![image.png](data:image/png;base64,iVBORw0KGgoAAAANSUhEUgAAADcAAAA4CAYAAABZjWCTAAAAAXNSR0IArs4c6QAAAARnQU1BAACxjwv8YQUAAAAJcEhZcwAADsMAAA7DAcdvqGQAAAPcSURBVGhD7ZlNaNRAFMdfst1td2tB3FY9rNZTFU8iCBUPggdBKij05KUg9GAvQkFQwaJQEQVpQUEq2EvPCl5E8CKKUg8ieOmXp4IHtbsi1O72Y3fje5OZbLqbj4ndCWTJD9JkJslL/n0z773Jav39/Qa0KDrftySxuKgSi4sqsbioEouLKrG4qBKLiyqxuKgSi4sqLS0u+GcGTQctkcatHf81SWy2Uad5DgwwqmWA6hYYlQ3cSthV5efCR14cCtGTXaC1ZfAuIcYHA8WWi6h1lQkOG6lhqaV2QyKzH7Rkp7wwAq+le9i9aCNsvMWRt9L7QE918Y7/o+/IUWaDbJHNsHAVR3Mqkd6L+xTv2Q69sCwDFwbZnmyZNnG+hoCzOPJYRze+jbtjxQv7MTR8hf0jzovr0SazHYIHE7lc7g4/ttA7engUdIZe+NjxEyxGLi3Om511ZLM9MPFkGg4cPMTaJJC2bwvzUCqV0H4Kg80aO6eKBnE08fUkRkQHvF+4yPoE1P704T2UimvsmtmP7+Dp4wnrOk1P4F8cGZV11lbBdnE4VBIdWd5oxO+FaegNDY9ArrcXvi8vQ6GwAoV8Hs6cPQf3bt9k19ihuWeU1eXCbXlOb99jhnsfyIN3Hz6CkcuXeA/A6PUxJlhQyK/A5P1xJpCup70TxtYaVDd+81ZzqXmOJjqKk8ljlge5x+qFEZlMJ6Q7M/D1y2frOic0HC1G+S8eNf/3GCscUkkVJEELTzgJE/QdlkgXlOjp2QqwiQuee4QwGoJOLC3O8SNvVOW9WiILmHfswl69fIHbc37GZGlhDmaeTfGWD4pyXs1zHnmtHruwmekpFjVncQ4KSNjkg3F27DZk7QR5dhBqnrOWLd7UCyMhInoSdmGEXCUToBgPgE2cP0GFNZReIWOlAlb5e0TLIMKoX7aSMcF1H635mowljhahZknUSFCPWXnQpZKpx6CVu4I6szYsXVbKYmjJChNQHhRBxjdqKlqlW+Lom4cTJ0+dZnsK97LCBCTw1rWrvOWO27N3ik0cFbCNJRANKWLg4iDzoKwwgVtNaUHfWejZCvAtnMlTozfGINvdw3vkhckQTuGMGEYZi4VdvGVCQYAVvxgcSODbN6/Z3GsWTFgYSx6CLVZ3+EFIlurmKhibf3ir+TQkcXqYUdnkLXXQM1QKIxwrFJVDhYG2Vc0zO47iKO9U1/NqBJIwsh3CF2hncQjlnkrpV1OHKNkybarJa/W4imOQB0s/2cTfKWSDbIXhMYG3OA5N/ErxB8tJToneFUrQeA+7V3HwcCL+CSuqSA3LqBKLiyotLA7gHzYZBYXVpCqWAAAAAElFTkSuQmCC). \n",
        "  - Click that icon to expand the dataframe.\n",
        "  - Once you have expanded the dataframe, there are these tools available: ![image.png](data:image/png;base64,iVBORw0KGgoAAAANSUhEUgAAAHYAAAAlCAYAAACXvR1IAAAAAXNSR0IArs4c6QAAAARnQU1BAACxjwv8YQUAAAAJcEhZcwAADsMAAA7DAcdvqGQAAAOwSURBVHhe7ZoxSCNBFIbfHVZ2NtHOUrhGEQXPIo2YFDkP4eyElYO7Sq4xRPBIKQqG2F3lwWHA7gQhWpjDJoWNh2gjWNppmnRWwl3+dcaMm93ZSeKYzWQ+eOzO7CS77D/vzZuZfTM1NfWPLMbxlh0thmGFNRQrrKFYYQ3FCmsoVlhDscIaihXWUKywhmKFNRS7pBghRkdHn2xsbIxub2/p8vLy6QhTxQobAYaGhiiTybhiyoDA6XTaPYYhFba/v9+9WV9fH6uJNg8PD3RxcUH39/esRg14iIy7uzull9kKjuPQ0tISK4WD5zg+PqZCocBq/JEKOz09TalUisbHx1lNtDk/P6ejoyM6PT1lNXLgKXt7e6wkZ3d3N/RlNoufqBAO94F4eD50OrTDuUjY80iFjcfjtLa2xkrdwebmJpXLZVaSw1/sysoKq/EH7QDC4Evh16kg6uLiIivVQdt8Pv9MXLTd2toKHHdtVlyDJyZBpgOMqV64B8JLIToM51xEEYi8urrKSo1YYTtAMpn0TZR4J+KhVxQP47wXXA/KD9oWtrLv0MDAQKN9/k2V2vWzXO08d+a2Fc87BV4qwlonGRwcZGfPgYeenJw8Ex3eKh69aBPWZX6HrqtVqor2a4Fi7LIfbodg4r8meKlh0wrdiGNlGDw8o0P6oVdYCZOZmsiZSVaygCAxvCCpQ3hG+6DxNKiTaBfWN/z+zdPIlyLRwVcaEbzWbctDufAb1Du5PDlCiDcdTHcgKoTb3t5mtY3oFRYCcUFcy5N0JJ1I0/XPuccQzkI2QnPiiof0a9q5SpCzX5ewuEH0TSHEdwNB46UID8F8qhUEOoAfmsbYNDUXfCtUPixSdpmLFqOF5SwVD8t17/web/I/o4vKFIqLHxa2gzqJ9lCsxg3dHBCtzwpeP7teiwS1etbCJFSERXYMC0u0/KZBICLCDtPwPFH2j+j1rXh+a8ArZNZMFqsCxMCadrvgP/SG4raJUfzDHK3/8CRSmhMleA5CGZITmUHYUqnEftU+uGcul2Mlf2ZmZlyTIVsr7piwsfcfac5Nuh4TrdinApXe1ZOwxEaWSpoTJQiLtVlMK2SGNkGe0SoQ17tM2AzYBJCF9J7bBFBd+Ofo3LJDJEgkEk1t2wGVnaaeExZjJib7quOmju06L3iWV91oN3nbDgKroNNjRSAuljtx5EkbwL0Rcrmp0tP7sSYjTZ7wqQm+SugW8Kx4ZkuIx/bKN08mIhXW0r1EZIHC8tJYYY2E6D/RYgo5Wh2HsgAAAABJRU5ErkJggg==). You can filter by a word in multiple columns, and you can also copy the current displayed output as a CSV, JSON, or Markdown file."
      ],
      "metadata": {
        "id": "hHFffuOZEpQw"
      }
    },
    {
      "cell_type": "markdown",
      "source": [
        "#Import necessary libraries\n",
        "\n",
        "\n",
        "\n",
        "\n"
      ],
      "metadata": {
        "id": "OVKxW2aHFiV-"
      }
    },
    {
      "cell_type": "code",
      "source": [
        "#@title Import necessary libraries \n",
        "import pandas as pd\n",
        "from pandas.core.frame import DataFrame\n",
        "from google.colab import files\n",
        "import re\n",
        "import io\n",
        "import sys\n",
        "from collections import Counter\n",
        "import numpy as np\n",
        "import matplotlib.pyplot as plt\n",
        "import seaborn as sns\n",
        "!pip install squarify --quiet\n",
        "import squarify\n",
        "!pip install ipywidgets --quiet\n",
        "import ipywidgets as widgets\n",
        "from IPython.display import display, clear_output\n",
        "import plotly.express as px\n",
        "\n",
        "class TreeMapPlot():\n",
        "  def create(tagsToResponses:dict):\n",
        "    \"\"\"\n",
        "    Parameter tagsToResponses: a dictionary mapping tags to the responses with that tag\n",
        "    Returns a pandas dataframe object\n",
        "    \"\"\"\n",
        "    treeMapProcessDf = pd.DataFrame({'tag':[],\n",
        "                      'response':[], \n",
        "                      'size':[]})\n",
        "    \n",
        "    for tag in tagsToResponses:\n",
        "      for response in tagsToResponses[tag]:\n",
        "        treeMapLstToAppend = [tag, response, 1]\n",
        "        #convert to series so can be appended to Df\n",
        "        row = pd.Series(treeMapLstToAppend, index = ['tag', 'response', 'size'])\n",
        "        treeMapProcessDf = treeMapProcessDf.append(row, ignore_index = True)\n",
        "    for tag in tagsToResponses:\n",
        "      pass # maybe try to get the scores to be appended as well\n",
        "    return treeMapProcessDf"
      ],
      "metadata": {
        "id": "lNhfA7u_FmAX",
        "cellView": "form"
      },
      "execution_count": null,
      "outputs": []
    },
    {
      "cell_type": "markdown",
      "source": [
        "#Upload files\n"
      ],
      "metadata": {
        "id": "noPd61mqFPdv"
      }
    },
    {
      "cell_type": "code",
      "source": [
        "#@title Upload your dataset as a csv file\n",
        "#@markdown For most of the visualizations, it is extremely ideal if the data you upload\n",
        "#@markdown is the csv output from the language processing notebook.\n",
        "#@markdown <br>\n",
        "#@markdown This cell will display an \"upload\" button. Please select a csv file that you wish to clean and spellcheck.\n",
        "\n",
        "\n",
        "#@markdown <br> <b><u>If you get an error</b></u> that says something along the lines of google.colab._files is not defined,\n",
        "#@markdown <br> or 'Upload widget is only available when the cell has been executed in the current browser session. Please rerun this cell to enable' <br>\n",
        "#@markdown Try:\n",
        "#@markdown - Enabling cookies for colab.research.google.com in your browser\n",
        "#@markdown - Disabling any adblockers or content blockers\n",
        "#@markdown - Not using incognito or private browsing mode\n",
        "#@markdown - A different browser\n",
        "#@markdown \n",
        "uploaded = files.upload()\n",
        "filename = list(uploaded.keys())[0]\n",
        "dfInit = pd.read_csv(io.BytesIO(uploaded[filename]))\n",
        "dfInit = dfInit.fillna('')\n",
        "dfInit"
      ],
      "metadata": {
        "id": "UFRElWjHFR5_",
        "cellView": "form"
      },
      "execution_count": null,
      "outputs": []
    },
    {
      "cell_type": "markdown",
      "source": [
        "#Demographics visualization\n",
        "- only relevant if your data has demographics in column(s)\n",
        "- choose your columns that have demographic data"
      ],
      "metadata": {
        "id": "aRk2AlmSE8oY"
      }
    },
    {
      "cell_type": "code",
      "source": [
        "#@title Choose demographics filters \n",
        "# This could be an interactive interface\n",
        "# For now, create a histogram of the demographics of the respondents\n",
        "demVisStyle = {'description_width':'initial'}\n",
        "demVisDf = dfInit.copy()\n",
        "demVisSelectMultiple = widgets.SelectMultiple(style = demVisStyle, \n",
        "                                              options = demVisDf.columns,\n",
        "                                              rows = len(demVisDf.columns),\n",
        "                                              layout = widgets.Layout(width = 'auto'),\n",
        "                                              description = 'Choose demographics filters ')\n",
        "display(demVisSelectMultiple)"
      ],
      "metadata": {
        "cellView": "form",
        "id": "gFgJTZjSLjCP"
      },
      "execution_count": null,
      "outputs": []
    },
    {
      "cell_type": "code",
      "source": [
        "#@title Show bar charts of the demographic data you have selected.\n",
        "\n",
        "for demographicIdentifier in demVisSelectMultiple.value:\n",
        "  dfInit[demographicIdentifier].value_counts().plot.bar(title = demographicIdentifier, cmap = 'Pastel2')\n",
        "  plt.figure()\n",
        "plt.show()\n"
      ],
      "metadata": {
        "cellView": "form",
        "id": "yvxPT1vxMAE7"
      },
      "execution_count": null,
      "outputs": []
    },
    {
      "cell_type": "markdown",
      "source": [
        "#Sortable table visualization\n",
        "Sort by a tag (ascending or descending), and filter the responses by a word/phrase"
      ],
      "metadata": {
        "id": "AY4DpxLHKyl_"
      }
    },
    {
      "cell_type": "code",
      "source": [
        "#@title Interactive interface that shows sortable table\n",
        "#@markdown To use this, you must use a csv that was outputted from the language processing notebook.\n",
        "\n",
        "def getTags(dataframe):\n",
        "  #assumes that the dataframe being operated on is one that was processed \n",
        "  #by the language processing notebook\n",
        "  #OTHERWISE, would have to prompt the user and ask which columns are the tags\n",
        "  return list(dataframe.columns)[1:]\n",
        "\n",
        "drillDownDf = dfInit.copy()\n",
        "drillDownOutput = widgets.Output()\n",
        "style = {'description-width':'initial'}\n",
        "sortByTagDrop = widgets.Dropdown(options = getTags(drillDownDf),\n",
        "                                 description = 'Choose tag to sort by', \n",
        "                                 style = style)\n",
        "\n",
        "sortAscendingDrop = widgets.Dropdown(options = ['Ascending', 'Descending'], \n",
        "                                     value = 'Ascending', description = 'Sort by')\n",
        "\n",
        "sortAscendingLabel = widgets.Label('Sort by')\n",
        "\n",
        "resetAllFilters = widgets.ToggleButton(description = 'Reset all filters', value = False)\n",
        "filterByWordInput = widgets.Text(description = 'Filter by word')\n",
        "plotButton = widgets.ToggleButton(description = 'plot (does nothing)', value = False)\n",
        "plotButton.layout.visibility = 'hidden' # comment this out if developing this feature\n",
        "commonFilterDf = drillDownDf.copy()\n",
        "def common_filtering(tag:str, ascend:str, resetTruthValue:bool, filterWord:str):\n",
        "  ascending = True if ascend.lower() == 'ascending' else False\n",
        "  if resetTruthValue:\n",
        "    commonFilterDf = drillDownDf.copy() #reverts back to original\n",
        "    resetAllFilters.value = False\n",
        "  else:\n",
        "      commonFilterDf = drillDownDf.sort_values(by = tag, ascending = ascending)\n",
        "      #commonFilterDf = drillDownDf[drillDownDf[drop.value].str.contains(filterByWordInput.value).any()].sort_values(by = tag, ascending = ascending)\n",
        "      if filterWord != '':\n",
        "        commonFilterDf = commonFilterDf[commonFilterDf[drillDownDf.columns[0]].str.contains(filterWord)]\n",
        "\n",
        "  with drillDownOutput:\n",
        "    clear_output(wait = True)\n",
        "    display(commonFilterDf)\n",
        "\n",
        "def sortByTagDropEventHandler(change):\n",
        "  common_filtering(change.new, sortAscendingDrop.value, resetAllFilters.value, '')\n",
        "def sortAscendingDropEventHandler(change):\n",
        "  common_filtering(sortByTagDrop.value, change.new, resetAllFilters.value, '')\n",
        "def resetAllFiltersEventHandler(change):\n",
        "  common_filtering(sortByTagDrop.value, sortAscendingDrop.value, change.new, '')\n",
        "def filterByWordInputEventHandler(change):\n",
        "  common_filtering(sortByTagDrop.value, sortAscendingDrop.value, resetAllFilters.value, change.new)\n",
        "def plotButtonEventHandler(change):\n",
        "  pass\n",
        "\n",
        "drillDownHBox = widgets.HBox(children = [sortByTagDrop, filterByWordInput])\n",
        "\n",
        "sortByTagDrop.observe(sortByTagDropEventHandler, names = 'value')\n",
        "sortAscendingDrop.observe(sortAscendingDropEventHandler, names = 'value')\n",
        "resetAllFilters.observe(resetAllFiltersEventHandler, names = 'value')\n",
        "filterByWordInput.observe(filterByWordInputEventHandler, names = 'value')\n",
        "\n",
        "#initial updating of the dataframe, so that the default values are represented in the output\n",
        "# default meaning the first tag and ascending. Before this segment of code was written,\n",
        "# the dataframe was either hidden/not sorted until the user changed the selections\n",
        "# but that is not wanted behavior if the user turned out to want\n",
        "#whatever was set to default \n",
        "commonFilterDf = drillDownDf.sort_values(by = sortByTagDrop.value, ascending = sortAscendingDrop.value)\n",
        "with drillDownOutput:\n",
        "  display(commonFilterDf)\n",
        "# end initial updating of the dataframe\n",
        "display(resetAllFilters, sortByTagDrop, sortAscendingDrop, filterByWordInput, plotButton, drillDownOutput)"
      ],
      "metadata": {
        "cellView": "form",
        "id": "RxFMWqMtK0sP"
      },
      "execution_count": null,
      "outputs": []
    },
    {
      "cell_type": "code",
      "source": [
        "#@title Get the output of the sortable table as shown above as a csv file\n",
        "#@markdown WIP\n",
        "pass"
      ],
      "metadata": {
        "cellView": "form",
        "id": "8mPrAFdNK3-v"
      },
      "execution_count": null,
      "outputs": []
    },
    {
      "cell_type": "markdown",
      "source": [
        "#Treemap chart where multiple tags could be true"
      ],
      "metadata": {
        "id": "VwGnH71zLTg4"
      }
    },
    {
      "cell_type": "code",
      "source": [
        "#@title Set a threshold which determines whether a tag is applicable for a certain row.\n",
        "#@markdown Is it only relevant if the tag is 50% or more applicable?\n",
        "#@markdown 30%? This is where you decide\n",
        "#@markdown <br> <br> <em>You can also key in the value by clicking on '0.00%' to the right of the slider</em>\n",
        "treeMapMultDf = dfInit.copy()\n",
        "#make a bounded int text and bounded int slider\n",
        "treeMapMultTagFloatSlider = widgets.FloatSlider(value = 60, min = 0, max = 100, step = 0.1, readout_format = \".2f\")\n",
        "treeMapMultTagFloatSlider.description = 'Numbers are percentages'\n",
        "treeMapMultTagFloatSlider.style = {'description_width':'initial'}\n",
        "treeMapMultTagFloatSlider\n"
      ],
      "metadata": {
        "id": "2rJO99jsedrD",
        "cellView": "form"
      },
      "execution_count": null,
      "outputs": []
    },
    {
      "cell_type": "code",
      "source": [
        "#@title Select which columns are your \"tags\"\n",
        "#@markdown - Therefore, it is best if you are only trying to get a TreeMap from data that has been processed from the language processing notebook.\n",
        "treeMapMultStyle = {'description_width':'initial'}\n",
        "treeMapMultSelect = widgets.SelectMultiple(options = treeMapMultDf.columns, \n",
        "                                           style = treeMapMultStyle, layout = widgets.Layout(width = 'auto'),\n",
        "                                           description = 'Select which columns are your tags')\n",
        "display(treeMapMultSelect)"
      ],
      "metadata": {
        "id": "97yuQyXdlFrH",
        "cellView": "form"
      },
      "execution_count": null,
      "outputs": []
    },
    {
      "cell_type": "code",
      "source": [
        "#@title Calculate which responses meet the threshold for the tags\n",
        "#create a dictionary where each tag\n",
        "# has a list of responses where it is present\n",
        "treeMapMultTags =treeMapMultSelect.value \n",
        "treeMapThreshold = treeMapMultTagFloatSlider.value\n",
        "\n",
        "def meetThreshold(num) ->bool:\n",
        "  \"\"\"\n",
        "  Returns a boolean based on whether or not a number meets the threshold\n",
        "  defined by the user above.\n",
        "  \"\"\"\n",
        "  return num >= treeMapThreshold/100\n",
        "\n",
        "treeMapMultDict = {}\n",
        "#loop through the series\n",
        "for colindex, tag in enumerate(treeMapMultTags):\n",
        "  for rowindex, responseScore in enumerate(treeMapMultDf[tag]):\n",
        "    if meetThreshold(responseScore):\n",
        "      if tag not in treeMapMultDict.keys():\n",
        "        treeMapMultDict[tag] = [(treeMapMultDf.iat[rowindex, 0], responseScore)]  #row, column pair\n",
        "      else:\n",
        "        treeMapMultDict[tag].append((treeMapMultDf.iat[rowindex, 0], responseScore))\n",
        "      \n",
        "\n",
        "#maybe the value could be a list of  tuples where the tuple is (response, score), so \n",
        "#further insights can be made and be accounted for in the visualizations:\n",
        "#the closer to 1 the higher impact it has \n",
        "\n",
        "\n",
        "#dictionary mapping the tag to the raw number of responses above the threshold\n",
        "treeMapMultDictOccurrences = {}\n",
        "for key in treeMapMultDict:\n",
        "  treeMapMultDictOccurrences[key] = len(treeMapMultDict[key])\n",
        "print('The original number of rows in the dataset is: ' + str(dfInit.shape[0]))\n",
        "print(treeMapMultDictOccurrences)\n",
        "print(treeMapMultDict)"
      ],
      "metadata": {
        "id": "zYfiu3TCmTdv",
        "cellView": "form"
      },
      "execution_count": null,
      "outputs": []
    },
    {
      "cell_type": "code",
      "source": [
        "#@title show treemap\n",
        "\n",
        "#Work off the example code below,\n",
        "#Right away. I see that have to first get the unique groups and put them in a list\n",
        "# and then get the counts of the number of occurrences that there are rows that\n",
        "# correspond to that unique group (e.g rows where the age is 20)\n",
        "\n",
        "#maybe make a dictionary where the key:value pair is group:count\n",
        "# and then can populate the array nb_people with the values\n",
        "# and the group with the key.\n",
        "#test this with a dummy dictionary at some point before implementing\n",
        "\n",
        "treeMapMultThreshold = treeMapMultTagFloatSlider.value\n",
        "\n",
        "# Create a data frame with fake data\n",
        "\"\"\"\n",
        "df = pd.DataFrame({'scores':[1,2,3], 'group':['dining', 'entertainment', 'travel']})\n",
        "df = pd.DataFrame({'nb_people':[8,3,4,2], 'group':[\"group A\", \"group B\", \"group C\", \"group D\"] })\n",
        "df = pd.DataFrame({'scores':[0.5,0.9,1], 'group':[\"dining\", \"travel\", \"entertainment\"]})\n",
        "\"\"\"\n",
        "\n",
        "\n",
        "#make a new dataframe where\n",
        "#it maps each tag to how many are relevant to it\n",
        "#so have to have a function which determines whether something is relevant enough\n",
        "\n",
        "#or maybe a dictionary\n",
        "#because the key:value pair might be the tag and the value might be all of the rows where it is deemed applicable enough\n",
        "\n",
        "treeMapMultOutputDf = pd.DataFrame({'scores': list(treeMapMultDictOccurrences.values()), \n",
        "                              'group': treeMapMultDictOccurrences.keys()})\n",
        "\n",
        "# plot it\n",
        "squarify.plot(sizes=treeMapMultOutputDf['scores'], label=treeMapMultOutputDf['group'], alpha=.8 )\n",
        "plt.axis('off')\n",
        "plt.show()\n",
        "\n",
        "#squarify.plot(sizes = treeMapMultDf['scores'], label = treeMapMultDf['group'], alpha = .8)\n",
        "#plt.axi\n",
        "\n",
        "\n",
        "treeMapMultOutputDf\n",
        "#maybe add a responses column and under each row is just a list of the responses for that \"group\"\n",
        "treeMapMultTagsToResponses = {}\n",
        "# treeMapMultTagsToResponses is a dictionary of lists that contains \n",
        "for tag in treeMapMultTags:\n",
        "  for index, responseScore in enumerate(treeMapMultDf[tag]):\n",
        "    if meetThreshold(responseScore):\n",
        "      if tag not in treeMapMultTagsToResponses.keys():\n",
        "        treeMapMultTagsToResponses[tag] = [treeMapMultDf['Responses'][index]]\n",
        "      else:\n",
        "        treeMapMultTagsToResponses[tag].append(treeMapMultDf['Responses'][index])\n",
        "#treeMapMultTagsToResponses\n",
        "\n",
        "\n",
        "#So from the above dataframe, I have an idea how to solve this in a janky way\n",
        "#Have a dataframe where the columns are tag, response, size\n",
        "#where size is just constant for everything, so all the responses have the same \n",
        "#size but the outer boxes (the tags themselves) are scaled correctly\n",
        "\n",
        "#will need a dictionary of some sort to store \n",
        "#tag:responses\n",
        "\n",
        "#maybe as a list at first\n",
        "#but then \n",
        "\n",
        "#need to add rows to the dataframe\n",
        "#so maybe just add\n",
        "#something like \n",
        "\"\"\"\n",
        "dining XX 1\n",
        "dining XX 1\n",
        "dining XX 1\n",
        "...\n",
        "dining XX 1\n",
        "travel XX 1\n",
        "\"\"\" \n",
        "#because it doesn't matter if the dataframe is sorted or not\n",
        "#just has to be an input for the plotly library to create a good treemap\n",
        "\n",
        "#create a new dataframe \n",
        "\n",
        "#add rows to the processing dataframe\n",
        "\"\"\"\n",
        "def treeMapMultCreateDfForPlotly():\n",
        "  #Returns a pandas dataframe object\n",
        "  treeMapMultProcessDf = pd.DataFrame({'tag':[],\n",
        "                    'response':[], \n",
        "                    'size':[]})\n",
        "  for tag in treeMapMultTagsToResponses:\n",
        "    for response in treeMapMultTagsToResponses[tag]:\n",
        "      treeMapMultLstToAppend = [tag, response, 1]\n",
        "      #convert to series so can be appended to Df\n",
        "      row = pd.Series(treeMapMultLstToAppend, index = ['tag', 'response', 'size'])\n",
        "      treeMapMultProcessDf = treeMapMultProcessDf.append(row, ignore_index = True)\n",
        "  for tag in treeMapMultTagsToResponses:\n",
        "    pass # maybe try to get the scores to be appended as well\n",
        "  return treeMapMultProcessDf\n",
        "\"\"\"\n",
        "fig = px.treemap(TreeMapPlot.create(treeMapMultTagsToResponses),\n",
        "                 path=[px.Constant(\"all\"), 'tag', 'response'], values='size')\n",
        "fig.update_traces(root_color=\"lightgrey\")\n",
        "fig.update_layout(margin = dict(t=50, l=25, r=25, b=25))\n",
        "fig.show()\n",
        "#treeMapMultCreateDfForPlotly()\n",
        "TreeMapPlot.create(treeMapMultTagsToResponses)"
      ],
      "metadata": {
        "id": "-iApLD05LeyQ",
        "cellView": "form"
      },
      "execution_count": null,
      "outputs": []
    },
    {
      "cell_type": "markdown",
      "source": [
        "Notes:\n",
        "So have a list of dictionaries\n",
        "Where each dictionary is for a specific tag\n",
        "And then each dictionary has a key:value being the tag name and the value being a list of response.\n",
        "\n",
        "To make a treemap you have the labels and the parents\n",
        "\n",
        "So you can have duplicate labels (responses that fall under multiple categories)\n",
        "and then different parents\n",
        "\n",
        "Make a function called addToLabelsAndParents, perhaps return a tuple of lists, where the first value in the tuple is for labels to append to the list of labels that plotly takes in as input, and the second tuple value is a list of parents to append.\n",
        "\n",
        "def addToLabelsAndParents(tagsToResponses:dict)-> tuple:\n",
        "  \"\"\"\n",
        "  Return (labels, parents)\n",
        "  \"\"\"\n",
        "  lbls = []\n",
        "  pars = []\n",
        "  for tag in tagsToResponses:\n",
        "    for response in tagsToResponses[tag]:\n",
        "      label.append(response)\n",
        "      parent.append(tag)\n",
        "  return(lbls, pars)"
      ],
      "metadata": {
        "id": "ZT8Qnpd9BtrE"
      }
    },
    {
      "cell_type": "markdown",
      "source": [
        "#Treemap chart where only the most relevant tag is 'true'"
      ],
      "metadata": {
        "id": "IoZbOA5pLWO5"
      }
    },
    {
      "cell_type": "code",
      "source": [
        "#@title Set a threshold which determines whether a tag is applicable for a certain row.\n",
        "#@markdown Is it only relevant if the tag is 50% or more applicable?\n",
        "#@markdown 30%? This is where you decide\n",
        "#@markdown <br> <br> <em>You can also key in the value by clicking on '0.00%' to the right of the slider</em>\n",
        "treeMapSingDf = dfInit.copy()\n",
        "#make a bounded int text and bounded int slider\n",
        "treeMapSingTagFloatSlider = widgets.FloatSlider(value = 60, min = 0, max = 100, step = 0.1, readout_format = \".2f\")\n",
        "treeMapSingTagFloatSlider.description = 'Numbers are percentages'\n",
        "treeMapSingTagFloatSlider.style = {'description_width':'initial'}\n",
        "treeMapSingTagFloatSlider\n"
      ],
      "metadata": {
        "cellView": "form",
        "id": "uNRyvOAK-_Bv"
      },
      "execution_count": null,
      "outputs": []
    },
    {
      "cell_type": "code",
      "source": [
        "#@title Select which columns are your \"tags\"\n",
        "#@markdown - Therefore, it is best if you are only trying to get a TreeMap from data that has been processed from the language processing notebook.\n",
        "#@markdown - Note: in this current iteration of the notebook, you will get an error if you don't select all the tags.\n",
        "treeMapSingStyle = {'description_width':'initial'}\n",
        "treeMapSingSelect = widgets.SelectMultiple(options = treeMapSingDf.columns, \n",
        "                                           style = treeMapSingStyle, layout = widgets.Layout(width = 'auto'),\n",
        "                                           description = 'Select which columns are your tags')\n",
        "display(treeMapSingSelect)"
      ],
      "metadata": {
        "cellView": "form",
        "id": "Y-gpoQ84_bTA"
      },
      "execution_count": null,
      "outputs": []
    },
    {
      "cell_type": "code",
      "source": [
        "#@title show treemap\n",
        "treeMapSingDfTrimmed = treeMapSingDf.iloc[: , 1:] #gets rid of 'response' col\n",
        "treeMapSingTags =treeMapSingSelect.value \n",
        "treeMapThreshold = treeMapSingTagFloatSlider.value\n",
        "\n",
        "def meetThreshold(num) ->bool:\n",
        "  \"\"\"\n",
        "  Returns a boolean based on whether or not a number meets the threshold\n",
        "  defined by the user above.\n",
        "  \"\"\"\n",
        "  return num >= treeMapThreshold/100\n",
        "\n",
        "\n",
        "\n",
        "#get the max of that row \n",
        "#loop through the series\n",
        "def isfloat(num):\n",
        "  try:\n",
        "    float(num)\n",
        "    return True\n",
        "  except ValueError:\n",
        "    return False\n",
        "\n",
        "responseToMaxTagAndScore = {}\n",
        "for index, response in enumerate(treeMapSingDf['Responses']):\n",
        "  #populate values of the score tags \n",
        "  scores = treeMapSingDfTrimmed.iloc[index]\n",
        "  scoreList = []\n",
        "  for scoreIndex, score in enumerate(scores):\n",
        "    #will have to enumrate over the index to make sure that index is in \n",
        "    #the scores, because when only looking at a single tag being correct, \n",
        "    # it is possible that the tag that corresponds to the score wasn't selected\n",
        "    # by the user \n",
        "    #have to check whether the column name is in treeMapSingTags\n",
        "\n",
        "    if treeMapSingDfTrimmed.iloc[:, scoreIndex].name in treeMapSingTags and isfloat(score):\n",
        "      #gets the name of the column to make sure that it was part of the user\n",
        "      #selected tags,\n",
        "      #and checks if the score is a float value\n",
        "      scoreList.append(score)\n",
        "  maxScore = max(scoreList)\n",
        "  maxScoreIndex = scoreList.index(maxScore)\n",
        "  maxTagAndScore = (treeMapSingTags[maxScoreIndex], maxScore)\n",
        "  #scores is a series\n",
        "  #where the row matches to a score\n",
        "  # like\n",
        "  # dining: 0.012\n",
        "  # travel: 0.98\n",
        "  responseToMaxTagAndScore[response] = maxTagAndScore\n",
        "\n",
        "treeMapSingDict = {}\n",
        "#dictionary where the key;value pair is \n",
        "#tag -> response, score\n",
        "\n",
        "for response in responseToMaxTagAndScore.keys():\n",
        "  tag = responseToMaxTagAndScore[response][0]\n",
        "  score = responseToMaxTagAndScore[response][1]\n",
        "  if meetThreshold(score):\n",
        "    if tag not in treeMapSingDict.keys():\n",
        "      treeMapSingDict[tag] = [(response, score)]#row, column pair\n",
        "    else:\n",
        "      treeMapSingDict[tag].append((response, score))\n",
        "\n",
        "#responseToMaxTagAndScore\n",
        "#treeMapSingDf\n",
        "\n",
        "#dictionary mapping the tag to the raw number of responses above the threshold\n",
        "treeMapSingDictOccurrences = {}\n",
        "for key in treeMapSingDict:\n",
        "  treeMapSingDictOccurrences[key] = len(treeMapSingDict[key])\n",
        "print('The original number of rows in the dataset is: ' + str(dfInit.shape[0]))\n",
        "print(treeMapSingDictOccurrences)\n",
        "print(treeMapSingDict)\n",
        "\n",
        "\n",
        "\"\"\"\n",
        "treeMapSingOutputDf = pd.DataFrame({'scores': list(treeMapSingDictOccurrences.values()), \n",
        "                              'group': treeMapSingDictOccurrences.keys()})\n",
        "\n",
        "# plot it\n",
        "squarify.plot(sizes=treeMapSingOutputDf['scores'], label=treeMapSingOutputDf['group'], alpha=.8 )\n",
        "plt.axis('off')\n",
        "plt.show()\n",
        "\n",
        "treeMapSingOutputDf\n",
        "\"\"\"\n",
        "#maybe add a responses column and under each row is just a list of the responses for that \"group\"\n",
        "treeMapSingTagsToResponses = {}\n",
        "# treeMapSingTagsToResponses is a dictionary of lists that contains keY;value\n",
        "# the tag: and all the responses under it\n",
        "for tag in treeMapSingDict:\n",
        "  # want to make the treeMapSingTagsToResponses dictionary have key:value being the tag and a list of all the responses under it\n",
        "  responseList = []\n",
        "  for tup in treeMapSingDict[tag]: #since treeMapSingDict is a dictionary where the key value is a tag: list of tuples,\n",
        "  #where each tuple is the (response, responseScore)\n",
        "    response = tup[0]\n",
        "    responseList.append(response)\n",
        "  treeMapSingTagsToResponses[tag] = responseList\n",
        "fig = px.treemap(TreeMapPlot.create(treeMapSingTagsToResponses),\n",
        "                 path=[px.Constant(\"all\"), 'tag', 'response'], values='size')\n",
        "fig.update_traces(root_color=\"lightgrey\")\n",
        "fig.update_layout(margin = dict(t=50, l=25, r=25, b=25))\n",
        "fig.show()\n",
        "#treeMapSingCreateDfForPlotly()"
      ],
      "metadata": {
        "id": "bQe_1P31LhUX",
        "cellView": "form"
      },
      "execution_count": null,
      "outputs": []
    },
    {
      "cell_type": "markdown",
      "source": [
        "#Pie chart visualizations\n",
        "devnote: this can be interactive similar to the sortable table\n",
        "devnote: <b> Currently, this breaks if not all of the tags are selected </b>\n"
      ],
      "metadata": {
        "id": "dD6x-U3CNfhC"
      }
    },
    {
      "cell_type": "code",
      "source": [
        "#@title Set a threshold for when a given tag is irrelevant for a row\n",
        "#@markdown Is it only relevant if the tag is 50% or more applicable?\n",
        "#@markdown 30%? This is where you decide\n",
        "#@markdown <br> <br> <em>You can also key in the value by clicking on '0.00%' to the right of the slider</em>\n",
        "pieDf = dfInit.copy()\n",
        "#make a bounded int text and bounded int slider\n",
        "pieTagFloatSlider = widgets.FloatSlider(value = 60, min = 0, max = 100, step = 0.1, readout_format = \".2f\")\n",
        "pieTagFloatSlider.description = 'Numbers are percentages'\n",
        "pieTagFloatSlider.style = {'description_width':'initial'}\n",
        "pieTagFloatSlider\n"
      ],
      "metadata": {
        "cellView": "form",
        "id": "UI0nZIBIb-30"
      },
      "execution_count": null,
      "outputs": []
    },
    {
      "cell_type": "code",
      "source": [
        "#@title Select the labels for the pie chart\n",
        "#@markdown You can drag and hold your cursor to select multiple\n",
        "#@markdown <br> To select multiple disjoint entries:\n",
        "#@markdown Hold Ctrl (on Windows) / Cmd (on Mac), and click the desired entries\n",
        "pieDf = dfInit.copy()\n",
        "pieSelectMultiple = widgets.SelectMultiple(options = pieDf.columns,\n",
        "                                           description = 'Select the labels',\n",
        "                                           style = {'description_width':'initial'})\n",
        "display(pieSelectMultiple)\n",
        "\n",
        "#so want to convert each cell into Y or N depending on whether >= threhsold\n",
        "\n",
        "#yes no for each tag based on thresholds"
      ],
      "metadata": {
        "cellView": "form",
        "id": "YRkiCxMoD3lG"
      },
      "execution_count": null,
      "outputs": []
    },
    {
      "cell_type": "code",
      "source": [
        "#@title Output dataframe that shows whether the responses met the threshold\n",
        "#@markdown. Like if something is under 40% match (.4), is it irrelevant?\n",
        "pieTags = pieSelectMultiple.value\n",
        "pieThreshold = pieTagFloatSlider.value\n",
        "pieDfBool = pieDf.copy()\n",
        "\n",
        "nameOfResponseCol = pieDfBool.iloc[:, 0].name\n",
        "pieDfBoolCols  = [nameOfResponseCol] + list(pieSelectMultiple.value)\n",
        "pieDfBool = pieDfBool[pieDfBoolCols]\n",
        "\n",
        "for colindex, col in enumerate(pieDfBool):\n",
        "  for rowindex, row in enumerate(pieDfBool[col]):\n",
        "    if colindex != 0:\n",
        "      pieDfBool.iat[rowindex, colindex ] = 'Yes' if float(pieDfBool.iat[rowindex, colindex]) >= pieThreshold/100 else 'No'\n",
        "\n",
        "pieDfBool\n",
        "#allow user to set a threshold which determines if given tag is relevant/irrelevant\n",
        "#for that row\n",
        "#Generate one pie chart per tag, showing what percent of responses have that tag "
      ],
      "metadata": {
        "cellView": "form",
        "id": "U0PbXfnqNhtZ"
      },
      "execution_count": null,
      "outputs": []
    },
    {
      "cell_type": "code",
      "source": [
        "#@title display  pie charts for each tag \n",
        "for tag in pieSelectMultiple.value:\n",
        "  counts = pieDfBool[tag].value_counts().tolist()\n",
        "  yesNoLabels = pieDfBool[tag].value_counts().index.tolist()\n",
        "  plt.pie(pieDfBool[tag].value_counts(), autopct='%1.1f%%')\n",
        "  plt.title(tag)\n",
        "  plt.legend(labels = yesNoLabels)\n",
        "  plt.show()\n"
      ],
      "metadata": {
        "cellView": "form",
        "id": "VKu-N4RFdqDW"
      },
      "execution_count": null,
      "outputs": []
    },
    {
      "cell_type": "code",
      "source": [
        "\n",
        "#@title Display simple pie charts\n",
        "#@markdown where each pie is a tag and each subsection of the pie is the percentage of bucket of responses\n",
        "#@markdown <br> the buckets are between 0 and 25 percent match, 25 percent to 50 percent match, 50 percent to 75 percent match, and 75 percent to 100 percent match\n",
        "#need to have a for loop to create however many pie charts which is dependent on how many categories were selected.\n",
        "\n",
        "#create a set of data for each label, counting the occurrences of the scores that occur within a certain range.\n",
        "\n",
        "# < 25% score , <50% score, <75 % score, <100% score\n",
        "pieLabels = pieSelectMultiple.value\n",
        "#Have to loop through all the labels \n",
        "pieDf[pieLabels[0]]\n",
        "#make a list of dictionaries, \n",
        "#where the dictionaries have the key as the name of the candidate_label\n",
        "#and the value is a list of counts of the ranges\n",
        "\n",
        "\n",
        "\n",
        "\n",
        "plotDf = pieDf.copy()\n",
        "labels = ['below .25', 'between .25 and .5', 'between .5 and .75', 'between .75 and 1']\n",
        "plots = []\n",
        "for index, label in enumerate(pieLabels):\n",
        "  plt.figure(index)\n",
        "  plotDf['grp' + label] = pd.cut(plotDf[label], (0,0.25,0.50,0.75,1.00), labels = labels)\n",
        "  plt.pie(plotDf.groupby(['grp' + label])[label].sum(), labels=None)\n",
        "  plt.legend(labels = labels)\n",
        "  plt.title(label)\n",
        "  plt.figure(index).show()\n",
        "  #see if a legend could be made for the bins and the colors\n",
        "  #matplot might have grid layout\n",
        "  #also have a title for each graph to display what is being represented\n",
        "#palettes from    https://color.adobe.com/explore\n"
      ],
      "metadata": {
        "cellView": "form",
        "id": "5ayXBqDqDpnQ"
      },
      "execution_count": null,
      "outputs": []
    },
    {
      "cell_type": "markdown",
      "source": [
        "#Distribution charts \n",
        "#distribution of scores for a tag "
      ],
      "metadata": {
        "id": "soiC3CGbNr2B"
      }
    },
    {
      "cell_type": "code",
      "source": [
        "#@title Distribution chart (discrete)\n",
        "distDiscreteDf = dfInit.copy()\n",
        "distDiscreteDf.reset_index(drop=True, inplace=True)\n",
        "distDiscreteDfTags = list(distDiscreteDf.columns[1:])\n",
        "\n",
        "for tag in distDiscreteDfTags:\n",
        "  sns.displot(distDiscreteDf, x = tag)"
      ],
      "metadata": {
        "cellView": "form",
        "id": "9XQBUrevOo-V"
      },
      "execution_count": null,
      "outputs": []
    },
    {
      "cell_type": "code",
      "source": [
        "#@title Distribution chart (continuous)\n",
        "\n",
        "#Allow user to select if they want a discrete distribution or continuous distribution\n",
        "#Generate one chart per tag showing the distribution\n",
        "\n",
        "\n",
        "distDf = dfInit.copy()\n",
        "distDfTags = list(distDf.columns[1:])\n",
        "distDfTrimmed = distDf[distDfTags]\n",
        "distOutput = widgets.Output()\n",
        "distSelectTags = widgets.SelectMultiple(options = distDfTags, value = list(distDfTags))\n",
        "distSmoother = widgets.FloatSlider(description = 'smoothing value', min = 0.1, max = 100, step = 0.1)\n",
        "distCutter = widgets.BoundedFloatText(description = 'Cut value', min = 0, step = 0.5)\n",
        "distDfShow = distDf.copy()\n",
        "distTempOutput = widgets.Output()\n",
        "\"\"\"\n",
        "for tag in distDfTags:\n",
        "  sns.kdeplot(data = distDf, x = tag)\n",
        "\"\"\"\n",
        "\n",
        "\n",
        "#allow the user to adjust the smoothing or to only see certain \n",
        "\n",
        "def distCommonFilter(tagVals, smoothingVal:int, cutVal:int):\n",
        "  \"\"\"\n",
        "  update\n",
        "  \"\"\"\n",
        "  tagVals = list(tagVals)\n",
        "  global distDfShow # so that there is already output before the user messes with the controls\n",
        "  distDfShow = distDf.copy()\n",
        "  distDfShow = distDfShow[tagVals]\n",
        "  with distOutput:\n",
        "    distOutput.clear_output(wait = True)\n",
        "    plt.close()\n",
        "    plt.figure()\n",
        "    sns.kdeplot(data = distDfShow, bw_adjust = smoothingVal,cut = cutVal)\n",
        "    plt.show()\n",
        "\n",
        "\n",
        "def distSelectTagsEventHandler(change):\n",
        "  newTags =change.new\n",
        "  distCommonFilter(newTags, distSmoother.value, distCutter.value)\n",
        "def distSmootherEventHandler(change):\n",
        "  distCommonFilter(distSelectTags.value, change.new, distCutter.value)\n",
        "def distCutterEventHandler(change):\n",
        "  distCommonFilter(distSelectTags.value, distSmoother.value, change.new)\n",
        "\n",
        "distSelectTags.observe(distSelectTagsEventHandler, 'value')\n",
        "distSmoother.observe(distSmootherEventHandler, 'value')\n",
        "distCutter.observe(distCutterEventHandler, 'value')\n",
        "fig = plt.figure(0)\n",
        "sns.kdeplot(data = distDf, bw_adjust = distSmoother.value ,cut = distCutter.value)\n",
        "fig.show()\n",
        "display(distSelectTags, distSmoother, distCutter, distTempOutput, distOutput)\n",
        "\n"
      ],
      "metadata": {
        "cellView": "form",
        "id": "YpMcvVdPNu7i"
      },
      "execution_count": null,
      "outputs": []
    },
    {
      "cell_type": "markdown",
      "source": [
        "#Parallel coordinates visualization \n",
        "- Works if your data is multivariate and numerical\n",
        "- For example, you have multiple columns and all the values under those columns are numerical.\n",
        "- If there is non numeric data under any column, it will have to be marked as one to encode as a numeric value (for instance, if the column values under 'Generation' are only one of \n",
        "[Lost Generation, Baby Boomer, Generation X, Generation Y, Generation Z, Generation Alpha], then each value would be assigned to a certain numeric value, scaled by the range of the rest of the data (just setting each to a number set one apart like 1,2,3,4,5 would lead to clustering in the visualization making it hard to discern what is happening))\n",
        "\n",
        "Example of a parallel coordinates plot visualization:\n",
        "#![Example of a parallel coordinates plot visualization](https://visflow.org/assets/img/parallel-coordinates.2a270162.png \"Example of a parallel coordinates plot visualization\")\n",
        "\n",
        "\n",
        "- Choose the column to base the color on (in this example, the color is based on the origin, and is one of European, Japanese, American\n"
      ],
      "metadata": {
        "id": "aen1wxuzIhGc"
      }
    },
    {
      "cell_type": "code",
      "source": [
        "#@title Upload cleaned data (not language processed)\n",
        "#@markdown This will use both the dataframe that was not scored\n",
        "#@markdown as well as the scored dataframe that you uploaded at the beginning of this notebook.\n",
        "#@title Upload your dataset as a csv file\n",
        "#@markdown For most of the visualizations, it is extremely ideal if the data you upload\n",
        "#@markdown is the csv output from the language processing notebook.\n",
        "#@markdown <br>\n",
        "#@markdown This cell will display an \"upload\" button. Please select a csv file that you wish to clean and spellcheck.\n",
        "\n",
        "\n",
        "#@markdown <br> <b><u>If you get an error</b></u> that says something along the lines of google.colab._files is not defined,\n",
        "#@markdown <br> or 'Upload widget is only available when the cell has been executed in the current browser session. Please rerun this cell to enable' <br>\n",
        "#@markdown Try:\n",
        "#@markdown - Enabling cookies for colab.research.google.com in your browser\n",
        "#@markdown - Disabling any adblockers or content blockers\n",
        "#@markdown - Not using incognito or private browsing mode\n",
        "#@markdown - A different browser\n",
        "#@markdown \n",
        "prlUpload= files.upload()\n",
        "prlFilename = list(prlUpload.keys())[0]\n",
        "dfPrlInit = pd.read_csv(io.BytesIO(prlUpload[prlFilename]))\n",
        "dfPrlInit = dfPrlInit.fillna('')\n",
        "dfPrlInit"
      ],
      "metadata": {
        "cellView": "form",
        "id": "wXkuguGrXUtL"
      },
      "execution_count": null,
      "outputs": []
    },
    {
      "cell_type": "code",
      "source": [
        "#to vis, might need "
      ],
      "metadata": {
        "id": "w8v7zYHUYAXE"
      },
      "execution_count": null,
      "outputs": []
    },
    {
      "cell_type": "code",
      "source": [
        "#@title Visualize the data with a parallel coordinates plot"
      ],
      "metadata": {
        "cellView": "form",
        "id": "cozvyitRN8WZ"
      },
      "execution_count": null,
      "outputs": []
    },
    {
      "cell_type": "markdown",
      "source": [
        "#Scatterplot visualization\n",
        "- To see how one tag correlates with another\n",
        "- For this to be used, your data that you have uploaded should have been processed from the NLP notebook (with the tags and the scores)"
      ],
      "metadata": {
        "id": "i76LsBJ5KHBV"
      }
    },
    {
      "cell_type": "code",
      "source": [
        "#@title Select the labels\n",
        "#@markdown You can drag and hold your cursor to select multiple\n",
        "#@markdown <br> To select multiple disjoint entries:\n",
        "#@markdown Hold Ctrl (on Windows) / Cmd (on Mac), and click the desired entries\n",
        "scatterCorrDf = dfInit.copy()\n",
        "scatterCorrSelectMultiple = widgets.SelectMultiple(options = scatterCorrDf.columns,\n",
        "                                           description = 'Select the labels',\n",
        "                                           style = {'description_width':'initial'})\n",
        "display(scatterCorrSelectMultiple)\n"
      ],
      "metadata": {
        "cellView": "form",
        "id": "d1v7V00GGm3d"
      },
      "execution_count": null,
      "outputs": []
    },
    {
      "cell_type": "code",
      "source": [
        "\n",
        "#@title scatter correlation\n",
        "#statistical insights - like correlation of one tag and another, frequency analysis\n",
        "#maybe make an interactive interface \n",
        "scatterCorrLabels = scatterCorrSelectMultiple.value\n",
        "\n",
        "#scatterplot that compares two tags\n",
        "\n",
        "hb = widgets.HBox()\n",
        "visualizationLabel = widgets.Label('Choose two tags to see correlation')\n",
        "drop1 = widgets.Dropdown(description = 'Category 1', options = scatterCorrLabels)\n",
        "drop2 = widgets.Dropdown(description = 'Category 2', options = scatterCorrLabels)\n",
        "hb.children = [drop1, drop2]\n",
        "\n",
        "\n",
        "output = widgets.Output()\n",
        "combined_filtering = sns.scatterplot(x = drop1.value, y = drop2.value, data = scatterCorrDf, palette = 'deep')\n",
        "def updatePlot(category1, category2):\n",
        "  clear_output(wait= True)\n",
        "  display(visualizationLabel, hb)\n",
        "  combined_filtering = sns.scatterplot(x = category1, y = category2, data = scatterCorrDf, palette = 'deep')\n",
        "  with output:\n",
        "    display(visualizationLabel, hb, combined_filtering)\n",
        "\n",
        "\n",
        "def drop1EventHandler(change):\n",
        "  updatePlot(change.new, drop2.value)\n",
        "def drop2EventHandler(change):\n",
        "  updatePlot(drop1.value, change.new)\n",
        "\n",
        "drop1.observe(drop1EventHandler, names = 'value')\n",
        "drop2.observe(drop2EventHandler , names = 'value')\n",
        "\n",
        "rawScatterCorr = sns.scatterplot(data = scatterCorrDf)\n",
        "display(rawScatterCorr,visualizationLabel, hb)\n"
      ],
      "metadata": {
        "id": "W1fHS67SKaNu",
        "cellView": "form"
      },
      "execution_count": null,
      "outputs": []
    },
    {
      "cell_type": "markdown",
      "source": [
        ""
      ],
      "metadata": {
        "id": "GuJ0FJ75KG7e"
      }
    }
  ]
}